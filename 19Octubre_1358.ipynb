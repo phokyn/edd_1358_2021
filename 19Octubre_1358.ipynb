{
  "nbformat": 4,
  "nbformat_minor": 0,
  "metadata": {
    "colab": {
      "name": "19Octubre_1358.ipynb",
      "provenance": [],
      "authorship_tag": "ABX9TyM4IY0W1zAgOPCTcKa3p0Xn",
      "include_colab_link": true
    },
    "kernelspec": {
      "name": "python3",
      "display_name": "Python 3"
    }
  },
  "cells": [
    {
      "cell_type": "markdown",
      "metadata": {
        "id": "view-in-github",
        "colab_type": "text"
      },
      "source": [
        "<a href=\"https://colab.research.google.com/github/phokyn/edd_1358_2021/blob/master/19Octubre_1358.ipynb\" target=\"_parent\"><img src=\"https://colab.research.google.com/assets/colab-badge.svg\" alt=\"Open In Colab\"/></a>"
      ]
    },
    {
      "cell_type": "code",
      "metadata": {
        "id": "piEVfyb8dmPj",
        "outputId": "30984fd4-d413-4736-eb6d-85b17a611667",
        "colab": {
          "base_uri": "https://localhost:8080/",
          "height": 68
        }
      },
      "source": [
        "#open\n",
        "archivo = open('frutas.txt','rt')\n",
        "\n",
        "data = archivo.read()\n",
        "print(data.upper())\n",
        "\n",
        "archivo.close()"
      ],
      "execution_count": 2,
      "outputs": [
        {
          "output_type": "stream",
          "text": [
            "LIMON, AGUACATE, FRESA, MANZANA\n",
            "CIRUELA, CAPULIN, NARANJA\n",
            "PERA, KIWI \n"
          ],
          "name": "stdout"
        }
      ]
    },
    {
      "cell_type": "code",
      "metadata": {
        "id": "CttgcaxmhCNU",
        "outputId": "28f3cb4a-aa52-418e-8c38-54396dab9f92",
        "colab": {
          "base_uri": "https://localhost:8080/",
          "height": 153
        }
      },
      "source": [
        "#readline()\n",
        "archivo = open('frutas.txt','rt')\n",
        "print(archivo.readline())\n",
        "print(archivo.readline())\n",
        "print(archivo.readline())\n",
        "print(archivo.readline())\n",
        "print(archivo.readline()) \n",
        "\n",
        "data = archivo.readline()\n",
        "while data != \"\":\n",
        "  print(data)\n",
        "\n",
        "archivo.close"
      ],
      "execution_count": 3,
      "outputs": [
        {
          "output_type": "stream",
          "text": [
            "limon, aguacate, fresa, manzana\n",
            "\n",
            "ciruela, capulin, naranja\n",
            "\n",
            "pera, kiwi \n",
            "\n",
            "\n"
          ],
          "name": "stdout"
        },
        {
          "output_type": "execute_result",
          "data": {
            "text/plain": [
              "<function TextIOWrapper.close>"
            ]
          },
          "metadata": {
            "tags": []
          },
          "execution_count": 3
        }
      ]
    },
    {
      "cell_type": "code",
      "metadata": {
        "id": "wdXnWANxhNhw",
        "outputId": "f73b3557-eaff-46f8-e831-483d5dd3d853",
        "colab": {
          "base_uri": "https://localhost:8080/",
          "height": 51
        }
      },
      "source": [
        "#readlines()\n",
        "archivo = open('frutas.txt','rt')\n",
        "\n",
        "data = archivo.readlines()\n",
        "print(data)\n",
        "\n",
        "frutas = []\n",
        "for linea in data:\n",
        "  frutas.append(linea.strip())\n",
        "\n",
        "frutas_final = []\n",
        "for elem in frutas:\n",
        "  for fruta in elem.split(','):\n",
        "    frutas_final.append(fruta.strip())\n",
        "    \n",
        "print(frutas_final)\n",
        "archivo.close()"
      ],
      "execution_count": 7,
      "outputs": [
        {
          "output_type": "stream",
          "text": [
            "['limon, aguacate, fresa, manzana\\n', 'ciruela, capulin, naranja\\n', 'pera, kiwi ']\n",
            "['limon', 'aguacate', 'fresa', 'manzana', 'ciruela', 'capulin', 'naranja', 'pera', 'kiwi']\n"
          ],
          "name": "stdout"
        }
      ]
    },
    {
      "cell_type": "markdown",
      "metadata": {
        "id": "fvsPLggplE2L"
      },
      "source": [
        "# POO con python\n",
        "-clase\n",
        "-objetos\n",
        "-atributtos\n",
        "-metodos\n",
        "-metodo constructor\n",
        "-encapsulamiento(publico y privado)\n",
        "-herencia\n",
        "\n",
        "Declarar clases en python se usa la palabra reservada Class"
      ]
    },
    {
      "cell_type": "code",
      "metadata": {
        "id": "99fcDj5tlsHk"
      },
      "source": [
        "class Persona:\n",
        "  def __init__(self, edd, est):\n",
        "    self.__edad = edd\n",
        "    self.__estatura = est\n",
        "\n",
        "  def to_string(self):\n",
        "    print(f\"Edad={self.__edad}, est={self.__estatura}\")\n",
        "\n",
        "  per1 = Persona(23,1.78)\n",
        "  per1.to_string()\n",
        "  per1.__estatura = 10.4\n",
        "  per1.to_string()"
      ],
      "execution_count": null,
      "outputs": []
    }
  ]
}