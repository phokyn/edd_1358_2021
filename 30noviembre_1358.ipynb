{
  "nbformat": 4,
  "nbformat_minor": 0,
  "metadata": {
    "colab": {
      "name": "30noviembre_1358.ipynb",
      "provenance": [],
      "authorship_tag": "ABX9TyMBYZvMFuz1EVeEtO0AHGbU",
      "include_colab_link": true
    },
    "kernelspec": {
      "name": "python3",
      "display_name": "Python 3"
    }
  },
  "cells": [
    {
      "cell_type": "markdown",
      "metadata": {
        "id": "view-in-github",
        "colab_type": "text"
      },
      "source": [
        "<a href=\"https://colab.research.google.com/github/phokyn/edd_1358_2021/blob/master/30noviembre_1358.ipynb\" target=\"_parent\"><img src=\"https://colab.research.google.com/assets/colab-badge.svg\" alt=\"Open In Colab\"/></a>"
      ]
    },
    {
      "cell_type": "code",
      "metadata": {
        "id": "DTUx1IvT47h7"
      },
      "source": [
        "class Stack:\n",
        "  def __init__(self):\n",
        "    self.__data = []\n",
        "    self.__size = 0\n",
        "\n",
        "  def pop(self):\n",
        "    return self.__data.pop()\n",
        "\n",
        "  def peek(self):\n",
        "    return self.__data[-1]\n",
        "\n",
        "  def push(self, value):\n",
        "    self.__data.append(value)\n",
        "\n",
        "  def to_string(self):\n",
        "    print(\"------\")\n",
        "    for dato in self.__data[::-1]:\n",
        "      print(\"------\")\n",
        "      print(f\"| {dato} |\")\n",
        "    print(\"\") "
      ],
      "execution_count": 10,
      "outputs": []
    },
    {
      "cell_type": "code",
      "metadata": {
        "colab": {
          "base_uri": "https://localhost:8080/"
        },
        "id": "ylzJfmLoADcC",
        "outputId": "c2a2d11c-ad6e-4af3-dc99-4fc18ad24352"
      },
      "source": [
        "pl = Stack()\n",
        "pl.push(23)\n",
        "pl.push(10)\n",
        "pl.push(45)\n",
        "pl.push(4)\n",
        "pl.push(23)\n",
        "pl.to_string()\n",
        "valor = pl.peek()\n",
        "print(valor * 2)\n",
        "print(\"\")\n",
        "pl.to_string()"
      ],
      "execution_count": 11,
      "outputs": [
        {
          "output_type": "stream",
          "text": [
            "------\n",
            "------\n",
            "| 23 |\n",
            "------\n",
            "| 4 |\n",
            "------\n",
            "| 45 |\n",
            "------\n",
            "| 10 |\n",
            "------\n",
            "| 23 |\n",
            "\n",
            "46\n",
            "\n",
            "------\n",
            "------\n",
            "| 23 |\n",
            "------\n",
            "| 4 |\n",
            "------\n",
            "| 45 |\n",
            "------\n",
            "| 10 |\n",
            "------\n",
            "| 23 |\n",
            "\n"
          ],
          "name": "stdout"
        }
      ]
    },
    {
      "cell_type": "code",
      "metadata": {
        "colab": {
          "base_uri": "https://localhost:8080/"
        },
        "id": "woWJWlvbB6Ao",
        "outputId": "eb1b1e2f-44cd-4495-e6c3-a670fbf5fb54"
      },
      "source": [
        "# aplicaciones de la estrucura Stack\n",
        "# 1.- validacion de parentecis balanceados '()', '{}' y '[]'\n",
        "\n",
        "cadena = \"b=3*(5+(4/2))\"\n",
        "#cadena = \" )(()\"\n",
        "pila = Stack()\n",
        "pila.push(\"#\") #caracter de pila vacia\n",
        "for elem in cadena:\n",
        "  if elem == '(':\n",
        "    pila.push('*')\n",
        "  elif elem == ')':\n",
        "    pila.pop()\n",
        "  else:\n",
        "    pass\n",
        "if pila.peek() == '#':\n",
        "  print(\"La expresion esta balanceada en parentesis\")\n",
        "else:\n",
        "  print(\"la pila no esta balanceada\")"
      ],
      "execution_count": 5,
      "outputs": [
        {
          "output_type": "stream",
          "text": [
            "La expresion esta balanceada en parentesis\n"
          ],
          "name": "stdout"
        }
      ]
    }
  ]
}