{
  "nbformat": 4,
  "nbformat_minor": 0,
  "metadata": {
    "colab": {
      "name": "ejercicios_recurs.ipynb",
      "provenance": [],
      "authorship_tag": "ABX9TyOcEtCcquojcLv+NaC2GuRf",
      "include_colab_link": true
    },
    "kernelspec": {
      "name": "python3",
      "display_name": "Python 3"
    }
  },
  "cells": [
    {
      "cell_type": "markdown",
      "metadata": {
        "id": "view-in-github",
        "colab_type": "text"
      },
      "source": [
        "<a href=\"https://colab.research.google.com/github/phokyn/edd_1358_2021/blob/master/ejercicios_recurs.ipynb\" target=\"_parent\"><img src=\"https://colab.research.google.com/assets/colab-badge.svg\" alt=\"Open In Colab\"/></a>"
      ]
    },
    {
      "cell_type": "code",
      "metadata": {
        "colab": {
          "base_uri": "https://localhost:8080/"
        },
        "id": "1rBbPCGzEkAX",
        "outputId": "e58834d3-eb30-4605-e4be-879721ca3cf9"
      },
      "source": [
        "# suma con recursividad dentro de una lista \r\n",
        "def sumalista(lista):\r\n",
        "  if len(lista) == 1:\r\n",
        "    return lista[0]\r\n",
        "  else:\r\n",
        "    return lista[0] + sumalista(lista[1:])\r\n",
        "\r\n",
        "print(sumalista([1,3,5,7,9])) "
      ],
      "execution_count": null,
      "outputs": [
        {
          "output_type": "stream",
          "text": [
            "25\n"
          ],
          "name": "stdout"
        }
      ]
    },
    {
      "cell_type": "code",
      "metadata": {
        "colab": {
          "base_uri": "https://localhost:8080/"
        },
        "id": "WA-43ieoHZmo",
        "outputId": "eb7e60b2-bd5e-4603-96d2-491093632f0f"
      },
      "source": [
        "# contador regresivo con recursion\r\n",
        "def printRev(n):\r\n",
        "  if n > 0:\r\n",
        "    print(n) \r\n",
        "    printRev(n-1)\r\n",
        "printRev(10)"
      ],
      "execution_count": null,
      "outputs": [
        {
          "output_type": "stream",
          "text": [
            "10\n",
            "9\n",
            "8\n",
            "7\n",
            "6\n",
            "5\n",
            "4\n",
            "3\n",
            "2\n",
            "1\n"
          ],
          "name": "stdout"
        }
      ]
    }
  ]
}