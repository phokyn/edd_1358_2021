{
  "nbformat": 4,
  "nbformat_minor": 0,
  "metadata": {
    "colab": {
      "name": "30octubre_1358.ipynb",
      "provenance": [],
      "authorship_tag": "ABX9TyPU5RRwGcLaNL2fYXOormtx",
      "include_colab_link": true
    },
    "kernelspec": {
      "name": "python3",
      "display_name": "Python 3"
    }
  },
  "cells": [
    {
      "cell_type": "markdown",
      "metadata": {
        "id": "view-in-github",
        "colab_type": "text"
      },
      "source": [
        "<a href=\"https://colab.research.google.com/github/phokyn/edd_1358_2021/blob/master/30octubre_1358.ipynb\" target=\"_parent\"><img src=\"https://colab.research.google.com/assets/colab-badge.svg\" alt=\"Open In Colab\"/></a>"
      ]
    },
    {
      "cell_type": "code",
      "metadata": {
        "id": "E_JX1xTxRHj6"
      },
      "source": [
        "class Empleado:\n",
        "  def __init__( self, num, nom, pat, mat, he, sb, anio ):\n",
        "    self.__num_trabajador = num\n",
        "    self.__nombres = nom\n",
        "    self.__paterno = pat\n",
        "    self.__materno = mat\n",
        "    self.__horas_extras = he\n",
        "    self.__sueldo_base = sb\n",
        "    self.__anio_ingreso = anio\n",
        "  \n",
        "  # get y set\n",
        "\n",
        "  # metodos de uso general \n",
        "\n",
        "  # to_string()"
      ],
      "execution_count": 1,
      "outputs": []
    },
    {
      "cell_type": "code",
      "metadata": {
        "id": "f921PF1pV_jj",
        "outputId": "53b0a094-fa82-41c7-a088-59f0fac81259",
        "colab": {
          "base_uri": "https://localhost:8080/",
          "height": 316
        }
      },
      "source": [
        "\"\"\"\n",
        "ADT sueldos --> encapsula datos de nomina \n",
        "cargar_datos ( ruta_archivo )\n",
        "calcular_sueldos ( )\n",
        "reportar_mayor_ant( )\n",
        "reportar_menor_ant( )\n",
        "\"\"\"\n",
        "\n",
        "class Sueldos:\n",
        "  def __init__( self ):\n",
        "    self.__data = None \n",
        "\n",
        "  def cargar_datos( self, ruta_archivo ):\n",
        "    archivo = open( ruta_archivo, \"rt\", encoding='latin1')\n",
        "    lineas= archivo.readlines()\n",
        "    archivo.close()\n",
        "    self.__data = Array ( len(lineas)-1 )\n",
        "    #tarea \n",
        "    for linea in lineas:\n",
        "      print(linea)\n",
        "      #separar campos\n",
        "      #crear un objeto Empleado\n",
        "      #cargar ese objeto a self.__data.set_item()\n",
        "\n",
        "ejemplo = Sueldos()\n",
        "ejemplo.cargar_datos('junio.dat')"
      ],
      "execution_count": 3,
      "outputs": [
        {
          "output_type": "error",
          "ename": "NameError",
          "evalue": "ignored",
          "traceback": [
            "\u001b[0;31m---------------------------------------------------------------------------\u001b[0m",
            "\u001b[0;31mNameError\u001b[0m                                 Traceback (most recent call last)",
            "\u001b[0;32m<ipython-input-3-cd24b3c4cc18>\u001b[0m in \u001b[0;36m<module>\u001b[0;34m()\u001b[0m\n\u001b[1;32m     24\u001b[0m \u001b[0;34m\u001b[0m\u001b[0m\n\u001b[1;32m     25\u001b[0m \u001b[0mejemplo\u001b[0m \u001b[0;34m=\u001b[0m \u001b[0mSueldos\u001b[0m\u001b[0;34m(\u001b[0m\u001b[0;34m)\u001b[0m\u001b[0;34m\u001b[0m\u001b[0;34m\u001b[0m\u001b[0m\n\u001b[0;32m---> 26\u001b[0;31m \u001b[0mejemplo\u001b[0m\u001b[0;34m.\u001b[0m\u001b[0mcargar_datos\u001b[0m\u001b[0;34m(\u001b[0m\u001b[0;34m'junio.dat'\u001b[0m\u001b[0;34m)\u001b[0m\u001b[0;34m\u001b[0m\u001b[0;34m\u001b[0m\u001b[0m\n\u001b[0m",
            "\u001b[0;32m<ipython-input-3-cd24b3c4cc18>\u001b[0m in \u001b[0;36mcargar_datos\u001b[0;34m(self, ruta_archivo)\u001b[0m\n\u001b[1;32m     15\u001b[0m     \u001b[0mlineas\u001b[0m\u001b[0;34m=\u001b[0m \u001b[0marchivo\u001b[0m\u001b[0;34m.\u001b[0m\u001b[0mreadlines\u001b[0m\u001b[0;34m(\u001b[0m\u001b[0;34m)\u001b[0m\u001b[0;34m\u001b[0m\u001b[0;34m\u001b[0m\u001b[0m\n\u001b[1;32m     16\u001b[0m     \u001b[0marchivo\u001b[0m\u001b[0;34m.\u001b[0m\u001b[0mclose\u001b[0m\u001b[0;34m(\u001b[0m\u001b[0;34m)\u001b[0m\u001b[0;34m\u001b[0m\u001b[0;34m\u001b[0m\u001b[0m\n\u001b[0;32m---> 17\u001b[0;31m     \u001b[0mself\u001b[0m\u001b[0;34m.\u001b[0m\u001b[0m__data\u001b[0m \u001b[0;34m=\u001b[0m \u001b[0mArray\u001b[0m \u001b[0;34m(\u001b[0m \u001b[0mlen\u001b[0m\u001b[0;34m(\u001b[0m\u001b[0mlineas\u001b[0m\u001b[0;34m)\u001b[0m\u001b[0;34m-\u001b[0m\u001b[0;36m1\u001b[0m \u001b[0;34m)\u001b[0m\u001b[0;34m\u001b[0m\u001b[0;34m\u001b[0m\u001b[0m\n\u001b[0m\u001b[1;32m     18\u001b[0m     \u001b[0;31m#tarea\u001b[0m\u001b[0;34m\u001b[0m\u001b[0;34m\u001b[0m\u001b[0;34m\u001b[0m\u001b[0m\n\u001b[1;32m     19\u001b[0m     \u001b[0;32mfor\u001b[0m \u001b[0mlinea\u001b[0m \u001b[0;32min\u001b[0m \u001b[0mlineas\u001b[0m\u001b[0;34m:\u001b[0m\u001b[0;34m\u001b[0m\u001b[0;34m\u001b[0m\u001b[0m\n",
            "\u001b[0;31mNameError\u001b[0m: name 'Array' is not defined"
          ]
        }
      ]
    }
  ]
}