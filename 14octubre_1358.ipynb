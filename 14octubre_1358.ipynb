{
  "nbformat": 4,
  "nbformat_minor": 0,
  "metadata": {
    "colab": {
      "name": "14octubre_1358.ipynb",
      "provenance": [],
      "toc_visible": true,
      "authorship_tag": "ABX9TyPnjOREhRAFwNTG0WdvmmxN",
      "include_colab_link": true
    },
    "kernelspec": {
      "name": "python3",
      "display_name": "Python 3"
    }
  },
  "cells": [
    {
      "cell_type": "markdown",
      "metadata": {
        "id": "view-in-github",
        "colab_type": "text"
      },
      "source": [
        "<a href=\"https://colab.research.google.com/github/phokyn/edd_1358_2021/blob/master/14octubre_1358.ipynb\" target=\"_parent\"><img src=\"https://colab.research.google.com/assets/colab-badge.svg\" alt=\"Open In Colab\"/></a>"
      ]
    },
    {
      "cell_type": "code",
      "metadata": {
        "id": "-eY6Yhl-esty",
        "outputId": "83dc9f2b-b43f-4637-e8e3-dd176f825363",
        "colab": {
          "base_uri": "https://localhost:8080/",
          "height": 68
        }
      },
      "source": [
        "def calcular( a, b, c ):\n",
        "  x = a + ( b / c )\n",
        "  return x \n",
        "\n",
        "print(calcular( 5, 9, 3 ))\n",
        "print(calcular( a=5, c=3, b=9))\n",
        "\n",
        "def calcular_v2( a=10, b=20, c=5):\n",
        "  x = a + (b/c)\n",
        "  return x\n",
        "\n",
        "print(calcular_v2(c=2, b=20, c=5))"
      ],
      "execution_count": 3,
      "outputs": [
        {
          "output_type": "stream",
          "text": [
            "8.0\n",
            "8.0\n",
            "14.0\n"
          ],
          "name": "stdout"
        }
      ]
    },
    {
      "cell_type": "markdown",
      "metadata": {
        "id": "fQbWZRAsrtzz"
      },
      "source": [
        "#argumentos a funciones por tupla *\n",
        "se envian los argumentos en un conjunto de elementos dentro de una tupla"
      ]
    },
    {
      "cell_type": "code",
      "metadata": {
        "id": "mOEhkI9yr-3z",
        "outputId": "b51e166a-8022-4787-be4f-dc0213d2498b",
        "colab": {
          "base_uri": "https://localhost:8080/",
          "height": 51
        }
      },
      "source": [
        "def calculo( *elem ):\n",
        "  print(elem)\n",
        "  x = elem[0] + ( elem[1] / elem[2] )\n",
        "  return x\n",
        "\n",
        "print(calculo(5,9,3))"
      ],
      "execution_count": 5,
      "outputs": [
        {
          "output_type": "stream",
          "text": [
            "(5, 9, 3)\n",
            "8.0\n"
          ],
          "name": "stdout"
        }
      ]
    },
    {
      "cell_type": "markdown",
      "metadata": {
        "id": "Dls9pP4Bsu9N"
      },
      "source": [
        "# argumentos como diccionario **"
      ]
    },
    {
      "cell_type": "code",
      "metadata": {
        "id": "WIe5lkyHs0Ep",
        "outputId": "95bcaaa0-e4df-48ea-f6f3-96c05b81b846",
        "colab": {
          "base_uri": "https://localhost:8080/",
          "height": 51
        }
      },
      "source": [
        "def calculo ( **elem ):\n",
        "  print(elem)\n",
        "  x = elem['a'] + ( elem['b'] / elem['c'])\n",
        "  return x\n",
        "\n",
        "print(calculo(a=5, b=9, c=3))"
      ],
      "execution_count": 7,
      "outputs": [
        {
          "output_type": "stream",
          "text": [
            "{'a': 5, 'b': 9, 'c': 3}\n",
            "8.0\n"
          ],
          "name": "stdout"
        }
      ]
    },
    {
      "cell_type": "markdown",
      "metadata": {
        "id": "vjXFZATL2g1j"
      },
      "source": [
        "#archivos\n",
        "- abrirlos\n",
        "  -un str con la ruta del archivo \n",
        "  -dos caracteres. 1 -> modo de apertura (r,w) y el 2 formato(texto o binario)\n",
        "- leer\n",
        "-modificarlos\n"
      ]
    },
    {
      "cell_type": "code",
      "metadata": {
        "id": "rUTaNN3Q3QgX"
      },
      "source": [
        "archivo = open('ejemplo.txt','wt')\n",
        "\n",
        "archivo.write(\"Hola mundo de archivos\")\n",
        "\n",
        "archivo.close()\n"
      ],
      "execution_count": 9,
      "outputs": []
    },
    {
      "cell_type": "code",
      "metadata": {
        "id": "An9FA_eE4czQ"
      },
      "source": [
        "!(cat ejemplo.txt > otra.txt)"
      ],
      "execution_count": 15,
      "outputs": []
    }
  ]
}