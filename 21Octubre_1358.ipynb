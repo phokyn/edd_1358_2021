{
  "nbformat": 4,
  "nbformat_minor": 0,
  "metadata": {
    "colab": {
      "name": "21Octubre_1358.ipynb",
      "provenance": [],
      "collapsed_sections": [],
      "authorship_tag": "ABX9TyOcFdepQzJtLuzBTL3FNbsp",
      "include_colab_link": true
    },
    "kernelspec": {
      "name": "python3",
      "display_name": "Python 3"
    }
  },
  "cells": [
    {
      "cell_type": "markdown",
      "metadata": {
        "id": "view-in-github",
        "colab_type": "text"
      },
      "source": [
        "<a href=\"https://colab.research.google.com/github/phokyn/edd_1358_2021/blob/master/21Octubre_1358.ipynb\" target=\"_parent\"><img src=\"https://colab.research.google.com/assets/colab-badge.svg\" alt=\"Open In Colab\"/></a>"
      ]
    },
    {
      "cell_type": "code",
      "metadata": {
        "id": "mAs9MJUdp06V",
        "outputId": "77028284-c16b-444b-b42d-8f47de80766b",
        "colab": {
          "base_uri": "https://localhost:8080/",
          "height": 85
        }
      },
      "source": [
        "# Encapsulamiento tradicional\n",
        "class SmartPhone:\n",
        "  def __init__( self, m ):\n",
        "    self.__marca = m\n",
        "  \n",
        "  def set_marca( self, m ):\n",
        "    self.__marca = m\n",
        "  \n",
        "  def get_marca( self ):\n",
        "    return self.__marca\n",
        "\n",
        "  def to_string( self ):\n",
        "    return \"La marca del telefono es: \" + self.__marca\n",
        "\n",
        "sp1 = SmartPhone( \"Huawei\" )\n",
        "print( sp1.to_string() ) \n",
        "sp1.__marca = \"iPhone X\"\n",
        "print( sp1.to_string() )\n",
        "sp1.set_marca( \"Samsung\" )\n",
        "print( sp1.to_string() ) \n",
        "print( sp1.get_marca() ) "
      ],
      "execution_count": 21,
      "outputs": [
        {
          "output_type": "stream",
          "text": [
            "La marca del telefono es: Huawei\n",
            "La marca del telefono es: Huawei\n",
            "La marca del telefono es: Samsung\n",
            "Samsung\n"
          ],
          "name": "stdout"
        }
      ]
    },
    {
      "cell_type": "code",
      "metadata": {
        "id": "9E8eXpN9xaaM",
        "outputId": "9da985aa-d6fb-48e3-e730-51f3c4989026",
        "colab": {
          "base_uri": "https://localhost:8080/",
          "height": 102
        }
      },
      "source": [
        "# Estilo Python 3 \n",
        "class SmartPhone:\n",
        "  def __init__( self, m ):\n",
        "    self.marca = m #llamando al metodo get\n",
        "\n",
        "  @property \n",
        "  def marca( self ):  # define metodo get y declara self.__marca\n",
        "    #print(\"En el metodo get marca\")\n",
        "    return self.__marca\n",
        "\n",
        "  @marca.setter\n",
        "  def marca( self, m):\n",
        "    if m in [\"Lenovo\",\"Sony\",\"Motorola\",\"iPhone SE\",\"Huawei\",\"Xiaomi\"]:\n",
        "      self.__marca = m\n",
        "    else:\n",
        "      print(\"Asignacion no valida\")\n",
        "\n",
        "  def to_string( self ):\n",
        "    return \"Marca = \" + self.marca \n",
        "\n",
        "  sp2 = SmartPhone( \"Xiaomi\" )\n",
        "  print( sp2.to_string() )\n",
        "  sp2.__marca = \"iPhone SE\"\n",
        "  print( sp2.to_string() )\n",
        "  sp2.marca = \"Motorola\" #invocacion metodo set \n",
        "  print( sp2.to_string() )\n",
        "\n",
        "  print(sp2.marca) #invocacion metodo get \n",
        "\n",
        "  sp2.marca = \"979866jv uiuf k8\"\n",
        "  print( sp2.to_string() )\n"
      ],
      "execution_count": 22,
      "outputs": [
        {
          "output_type": "stream",
          "text": [
            "La marca del telefono es: Xiaomi\n",
            "La marca del telefono es: iPhone SE\n",
            "La marca del telefono es: iPhone SE\n",
            "Motorola\n",
            "La marca del telefono es: iPhone SE\n"
          ],
          "name": "stdout"
        }
      ]
    },
    {
      "cell_type": "code",
      "metadata": {
        "id": "3BuBoqqK7MZK"
      },
      "source": [
        "class TelefonoTrabajo(SmartPhone):\n",
        "  def __init__( self, m ):\n",
        "    self.marca = m\n",
        "\n",
        "  sp3 = TelefonoTrabajo( \"Motorola\" )\n",
        "  print(dir(sp3))\n",
        "  print(sp3.to_string())"
      ],
      "execution_count": null,
      "outputs": []
    }
  ]
}