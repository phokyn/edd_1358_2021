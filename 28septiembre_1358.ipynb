{
  "nbformat": 4,
  "nbformat_minor": 0,
  "metadata": {
    "colab": {
      "name": "28septiembre_1358.ipynb",
      "provenance": [],
      "authorship_tag": "ABX9TyPhCBGuYnapj1lwZ6OEQcQ/",
      "include_colab_link": true
    },
    "kernelspec": {
      "name": "python3",
      "display_name": "Python 3"
    }
  },
  "cells": [
    {
      "cell_type": "markdown",
      "metadata": {
        "id": "view-in-github",
        "colab_type": "text"
      },
      "source": [
        "<a href=\"https://colab.research.google.com/github/phokyn/edd_1358_2021/blob/master/28septiembre_1358.ipynb\" target=\"_parent\"><img src=\"https://colab.research.google.com/assets/colab-badge.svg\" alt=\"Open In Colab\"/></a>"
      ]
    },
    {
      "cell_type": "code",
      "metadata": {
        "id": "W6NtK-5euKXO"
      },
      "source": [
        "class Silla():\n",
        "  def _init_(self):\n",
        "    self.material = \"\"\n",
        "    self.color = \"\"\n",
        "\n",
        "  def to_string(self):\n",
        "    print(\"-----------\")\n",
        "    #print( f\" Material: {self.material}\")\n",
        "    #print(f\"{self.color} -------\")"
      ],
      "execution_count": 3,
      "outputs": []
    },
    {
      "cell_type": "code",
      "metadata": {
        "id": "99n3yxD71OaJ",
        "outputId": "67581123-13e7-4011-8f7a-509418f77dac",
        "colab": {
          "base_uri": "https://localhost:8080/",
          "height": 34
        }
      },
      "source": [
        "obj = Silla()\n",
        "obj.to_string()"
      ],
      "execution_count": 4,
      "outputs": [
        {
          "output_type": "stream",
          "text": [
            "-----------\n"
          ],
          "name": "stdout"
        }
      ]
    }
  ]
}