{
  "nbformat": 4,
  "nbformat_minor": 0,
  "metadata": {
    "colab": {
      "name": "previo_tarea.ipynb",
      "provenance": [],
      "collapsed_sections": [],
      "authorship_tag": "ABX9TyOylnQjzkc4j5HGUeaAVIuK",
      "include_colab_link": true
    },
    "kernelspec": {
      "name": "python3",
      "display_name": "Python 3"
    }
  },
  "cells": [
    {
      "cell_type": "markdown",
      "metadata": {
        "id": "view-in-github",
        "colab_type": "text"
      },
      "source": [
        "<a href=\"https://colab.research.google.com/github/phokyn/edd_1358_2021/blob/master/previo_tarea.ipynb\" target=\"_parent\"><img src=\"https://colab.research.google.com/assets/colab-badge.svg\" alt=\"Open In Colab\"/></a>"
      ]
    },
    {
      "cell_type": "code",
      "metadata": {
        "id": "6ATon9eW9zpY"
      },
      "source": [
        "class Nodo:\n",
        "  def __init__(self,dato_inicial):\n",
        "    self.dato = dato_inicial\n",
        "    self.siguiente = None\n",
        "\n",
        "  def obtener_dato(self):\n",
        "    return self.dato\n",
        "\n",
        "  def obtener_siguiente(self):\n",
        "    return self.siguiente\n",
        "\n",
        "  def asignar_dato(self,nuevo_dato):\n",
        "    self.dato = nuevo_dato\n",
        "\n",
        "  def asignar_siguiente(self,nuevo_siguiente):\n",
        "    self.siguiente = nuevo_siguiente\n",
        "\n",
        "class Lista_no_ordenada:\n",
        "  def __init__(self):\n",
        "    self.cabeza = None\n",
        "\n",
        "  def esta_vacia(self):\n",
        "    return self.cabeza == None\n",
        "\n",
        "  def agregar(self,item):\n",
        "    temp = Nodo(item)\n",
        "    temp.asignar_siguiente(self.cabeza)\n",
        "    self.cabeza = temp\n",
        "\n",
        "  def tamano(self):\n",
        "    actual = self.cabeza\n",
        "    contador = 0\n",
        "    while actual != None:\n",
        "      contador = contador + 1\n",
        "      actual = actual.obtener_siguiente()\n",
        "\n",
        "    return contador\n",
        "\n",
        "  def buscar(self,item):\n",
        "    actual = self.cabeza\n",
        "    encontrado = False\n",
        "    while actual != None and not encontrado:\n",
        "      if actual.obtener_dato() == item:\n",
        "        encontrado = True\n",
        "      else:\n",
        "        actual = actual.obtener_siguiente()\n",
        "\n",
        "    return encontrado\n",
        "\n",
        "  def remover(self,item):\n",
        "    actual = self.cabeza\n",
        "    previo = None\n",
        "    encontrado = False\n",
        "    while not encontrado:\n",
        "      if actual.obtener_dato() == item:\n",
        "        encontrado = True\n",
        "      else:\n",
        "        previo = actual\n",
        "        actual = actual.obtener_siguiente()\n",
        "\n",
        "    if previo == None:\n",
        "      self.cabeza = actual.obtener_siguiente()\n",
        "    else:\n",
        "      previo.asignar_siguiente(actual.obtener_siguiente())"
      ],
      "execution_count": 26,
      "outputs": []
    },
    {
      "cell_type": "code",
      "metadata": {
        "colab": {
          "base_uri": "https://localhost:8080/"
        },
        "id": "TCYqoTeq-a5L",
        "outputId": "4a186cf8-9e26-41c1-c39c-44a42bac2b58"
      },
      "source": [
        "milista = Lista_no_ordenada()\n",
        "\n",
        "milista.agregar(5)\n",
        "milista.agregar(10)\n",
        "milista.agregar(20)\n",
        "milista.agregar(30)\n",
        "milista.agregar(40)\n",
        "\n",
        "print(milista)\n",
        "print(milista.tamano())\n",
        "print(milista.buscar(20))\n",
        "print(milista.buscar(10))\n",
        "\n",
        "milista.agregar(10)\n",
        "print(milista.buscar(10))\n",
        "print(milista.tamano())\n",
        "\n",
        "milista.remover(10)\n",
        "print(milista.tamano())\n",
        "milista.remover(30)\n",
        "print(milista.tamano())\n",
        "milista.remover(5)\n",
        "print(milista.tamano())\n",
        "print(milista.buscar(40))\n"
      ],
      "execution_count": 29,
      "outputs": [
        {
          "output_type": "stream",
          "text": [
            "<__main__.Lista_no_ordenada object at 0x7fe71fb677b8>\n",
            "5\n",
            "True\n",
            "True\n",
            "True\n",
            "6\n",
            "5\n",
            "4\n",
            "3\n",
            "True\n"
          ],
          "name": "stdout"
        }
      ]
    }
  ]
}