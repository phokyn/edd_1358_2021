{
  "nbformat": 4,
  "nbformat_minor": 0,
  "metadata": {
    "colab": {
      "name": "11_Enero_1358.ipynb",
      "provenance": [],
      "authorship_tag": "ABX9TyOho4HRUoRtpPPuU3oijRAn",
      "include_colab_link": true
    },
    "kernelspec": {
      "name": "python3",
      "display_name": "Python 3"
    }
  },
  "cells": [
    {
      "cell_type": "markdown",
      "metadata": {
        "id": "view-in-github",
        "colab_type": "text"
      },
      "source": [
        "<a href=\"https://colab.research.google.com/github/phokyn/edd_1358_2021/blob/master/11_Enero_1358.ipynb\" target=\"_parent\"><img src=\"https://colab.research.google.com/assets/colab-badge.svg\" alt=\"Open In Colab\"/></a>"
      ]
    },
    {
      "cell_type": "code",
      "metadata": {
        "id": "RqScnv77N0U5"
      },
      "source": [
        "class NodoArbol:\r\n",
        "  def __init__(self, dato, hijo_izq=None, hijo_der=None):\r\n",
        "    self.dato = dato\r\n",
        "    self.hijo_izq = hijo_izq\r\n",
        "    self.hijo_der = hijo_der\r\n",
        "    "
      ],
      "execution_count": 1,
      "outputs": []
    },
    {
      "cell_type": "code",
      "metadata": {
        "colab": {
          "base_uri": "https://localhost:8080/"
        },
        "id": "_mjLyBjIQ6PF",
        "outputId": "e1fcf4f8-9979-464e-b9b3-37b934ab79ab"
      },
      "source": [
        "arbol = NodoArbol(\"R\")\r\n",
        "arbol.hijo_izq =  NodoArbol(\"C\")\r\n",
        "arbol.hijo_der = NodoArbol(\"H\")\r\n",
        "\r\n",
        "# imprime el nodo raiz\r\n",
        "print(arbol.dato)\r\n",
        "# imprime el hijo izq\r\n",
        "print(arbol.hijo_izq.dato)\r\n",
        "# imprime el hijo der \r\n",
        "print(arbol.hijo_der.dato)\r\n"
      ],
      "execution_count": 5,
      "outputs": [
        {
          "output_type": "stream",
          "text": [
            "R\n",
            "C\n",
            "H\n"
          ],
          "name": "stdout"
        }
      ]
    },
    {
      "cell_type": "code",
      "metadata": {
        "colab": {
          "base_uri": "https://localhost:8080/"
        },
        "id": "HwTQOuOdSt1V",
        "outputId": "1fe6343e-2878-4d0b-9603-b150827e50f7"
      },
      "source": [
        "arbol_v2 = NodoArbol(\"R\", NodoArbol(\"C\"), NodoArbol(\"H\"))\r\n",
        "\r\n",
        "# imprime el nodo raiz\r\n",
        "print(arbol_v2.dato)\r\n",
        "# imprime el hijo izq\r\n",
        "print(arbol_v2.hijo_izq.dato)\r\n",
        "# imprime el hijo der \r\n",
        "print(arbol_v2.hijo_der.dato)"
      ],
      "execution_count": 6,
      "outputs": [
        {
          "output_type": "stream",
          "text": [
            "R\n",
            "C\n",
            "H\n"
          ],
          "name": "stdout"
        }
      ]
    },
    {
      "cell_type": "code",
      "metadata": {
        "colab": {
          "base_uri": "https://localhost:8080/"
        },
        "id": "E8cyE8kRTWur",
        "outputId": "6bcbcff5-1818-45d9-b7f5-758c24e300f2"
      },
      "source": [
        "# ejercicio 2 \r\n",
        "arbol2 = NodoArbol(\"4\", NodoArbol(\"3\", NodoArbol(\"2\", NodoArbol(\"2\"))), NodoArbol(\"5\"))\r\n",
        "\r\n",
        "# imprime el nodo raiz\r\n",
        "print(arbol2.dato)\r\n",
        "# imprime el hijo izq\r\n",
        "print(arbol2.hijo_izq.dato)\r\n",
        "# imprime el hijo izq 2 \r\n",
        "print(arbol2.hijo_izq.hijo_izq.dato)\r\n",
        "# imprime el hijo izq 3\r\n",
        "print(arbol2.hijo_izq.hijo_izq.hijo_izq.dato)\r\n",
        "# imprime el hijo der \r\n",
        "print(arbol2.hijo_der.dato)\r\n",
        "print(\"\")\r\n",
        "\r\n",
        "aux = arbol2\r\n",
        "while aux.hijo_izq != None:\r\n",
        "  aux = aux.hijo_izq\r\n",
        "print(aux.dato)"
      ],
      "execution_count": 13,
      "outputs": [
        {
          "output_type": "stream",
          "text": [
            "4\n",
            "3\n",
            "2\n",
            "2\n",
            "5\n",
            "\n",
            "2\n"
          ],
          "name": "stdout"
        }
      ]
    },
    {
      "cell_type": "code",
      "metadata": {
        "id": "hB6He_0cYyI8"
      },
      "source": [
        "class NodoArbol:\r\n",
        "  def __init__(self, dato, hijo_izq=None, hijo_cent=None, hijo_der=None):\r\n",
        "    self.dato = dato\r\n",
        "    self.hijo_izq = hijo_izq\r\n",
        "    self.hijo_cent = hijo_cent\r\n",
        "    self.hijo_der = hijo_der"
      ],
      "execution_count": 15,
      "outputs": []
    },
    {
      "cell_type": "code",
      "metadata": {
        "colab": {
          "base_uri": "https://localhost:8080/"
        },
        "id": "yv-75eS8Y5F8",
        "outputId": "0d474e71-ed3b-4272-c194-6b7a18a52028"
      },
      "source": [
        "arbolej_4 = NodoArbol(\"R\", NodoArbol(\"I\", None, NodoArbol(\"X\")), NodoArbol(\"C\", NodoArbol(\"y\")), NodoArbol(\"D\", None, None, NodoArbol(\"Z\")))\r\n",
        "\r\n",
        "# imprime el nodo raiz\r\n",
        "print(arbolej_4.dato)\r\n",
        "# imprime el hijo izq\r\n",
        "print(arbolej_4.hijo_izq.dato)\r\n",
        "# imprime el hijo izq,cent\r\n",
        "print(arbolej_4.hijo_izq.hijo_cent.dato)\r\n",
        "# imprime el hijo cent\r\n",
        "print(arbolej_4.hijo_cent.dato)\r\n",
        "# imprime el hijo cent,izq\r\n",
        "print(arbolej_4.hijo_cent.hijo_izq.dato)\r\n",
        "# imprime el hijo der \r\n",
        "print(arbolej_4.hijo_der.dato)\r\n",
        "# imprime el hijo der,der \r\n",
        "print(arbolej_4.hijo_der.hijo_der.dato)"
      ],
      "execution_count": 17,
      "outputs": [
        {
          "output_type": "stream",
          "text": [
            "R\n",
            "I\n",
            "X\n",
            "C\n",
            "y\n",
            "D\n",
            "Z\n"
          ],
          "name": "stdout"
        }
      ]
    }
  ]
}