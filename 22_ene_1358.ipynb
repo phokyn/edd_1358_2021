{
  "nbformat": 4,
  "nbformat_minor": 0,
  "metadata": {
    "colab": {
      "name": "22_ene_1358.ipynb",
      "provenance": [],
      "collapsed_sections": [],
      "authorship_tag": "ABX9TyO+40u6YK9UlM7g0Ulmk67u",
      "include_colab_link": true
    },
    "kernelspec": {
      "name": "python3",
      "display_name": "Python 3"
    }
  },
  "cells": [
    {
      "cell_type": "markdown",
      "metadata": {
        "id": "view-in-github",
        "colab_type": "text"
      },
      "source": [
        "<a href=\"https://colab.research.google.com/github/phokyn/edd_1358_2021/blob/master/22_ene_1358.ipynb\" target=\"_parent\"><img src=\"https://colab.research.google.com/assets/colab-badge.svg\" alt=\"Open In Colab\"/></a>"
      ]
    },
    {
      "cell_type": "code",
      "metadata": {
        "id": "RATnzLjtR8yk"
      },
      "source": [
        "class NodoArbol:\r\n",
        "  def __init__(self, value, left=None, right=None):\r\n",
        "    self.data = value\r\n",
        "    self.left = left\r\n",
        "    self.right = right    "
      ],
      "execution_count": 4,
      "outputs": []
    },
    {
      "cell_type": "code",
      "metadata": {
        "id": "5liK1dmnSylO"
      },
      "source": [
        "class ArbolBinarioBusqueda:\r\n",
        "  def __init__(self):\r\n",
        "    self.__root = None\r\n",
        "\r\n",
        "  def insert(self, value):\r\n",
        "    if self.__root == None:\r\n",
        "      self.__root = NodoArbol(value)\r\n",
        "    else:\r\n",
        "      self.__insert__(self.__root, value)\r\n",
        "      \r\n",
        "  def __insert__(self, nodo, value): # recursividad\r\n",
        "    if nodo.data == value:\r\n",
        "      print(\"El nodo ya existe, no se inserta:\", value)\r\n",
        "    elif value < nodo.data:\r\n",
        "      # ir a la izq \r\n",
        "      if nodo.left == None:\r\n",
        "        nodo.left = NodoArbol(value, None, None)\r\n",
        "      else:\r\n",
        "        self.__insert__(nodo.left, value)\r\n",
        "\r\n",
        "    else: \r\n",
        "      # ir a la derecha \r\n",
        "      if nodo.right == None:\r\n",
        "        nodo.right = NodoArbol(value, None, None)\r\n",
        "      else:\r\n",
        "        self.__insert__(nodo.right, value)\r\n",
        "\r\n",
        "  def transversal(self, format= \"in\"):\r\n",
        "    if format == \"in\":\r\n",
        "      print(\"\\nRecorrido in orden\")\r\n",
        "      self.__recorrido_in(self.__root)\r\n",
        "    elif format == \"pre\":\r\n",
        "      print(\"\\nRecorrido en pre orden\")\r\n",
        "      self.__recorrido_pre(self.__root)\r\n",
        "    elif format == \"pos\":\r\n",
        "      print(\"\\nRecorrido en pos orden\")\r\n",
        "      self.__recorrido_pos(self.__root)\r\n",
        "    else:\r\n",
        "      print(\"Formato no valido\")\r\n",
        "  \r\n",
        "  def __recorrido_in(self, nodo):\r\n",
        "    if nodo == None:\r\n",
        "      # print(\"Caso base\")\r\n",
        "      pass\r\n",
        "    else:\r\n",
        "      self.__recorrido_in(nodo.left)\r\n",
        "      print(nodo.data, end=\",\")\r\n",
        "      self.__recorrido_in(nodo.right)    \r\n",
        "\r\n",
        "  def __recorrido_pre(self, nodo):\r\n",
        "    if nodo == None:\r\n",
        "      # print(\"Caso base\")\r\n",
        "      pass\r\n",
        "    else:\r\n",
        "      print(nodo.data, end=\",\")\r\n",
        "      self.__recorrido_pre(nodo.left)\r\n",
        "      self.__recorrido_pre(nodo.right) \r\n",
        "\r\n",
        "  def __recorrido_pos(self, nodo):\r\n",
        "    if nodo == None:\r\n",
        "      # print(\"Caso base\")\r\n",
        "      pass\r\n",
        "    else:\r\n",
        "      self.__recorrido_pos(nodo.left)\r\n",
        "      self.__recorrido_pos(nodo.right) \r\n",
        "      print(nodo.data, end=\",\") \r\n",
        "\r\n",
        "  def search(self, value):\r\n",
        "    if self.__root == None:\r\n",
        "      print(\"Arbol vacio\")\r\n",
        "    else:\r\n",
        "      return self.__search(self.__root, value)\r\n",
        "\r\n",
        "  def __search(self, nodo, value):\r\n",
        "    if nodo == None:\r\n",
        "      return None\r\n",
        "    elif nodo.data == value:\r\n",
        "      return nodo \r\n",
        "    elif value < nodo.data:\r\n",
        "      print(\"Ir a la izq\")\r\n",
        "      return self.__search(nodo.left, value)\r\n",
        "    else:\r\n",
        "      print(\"Ir a la der\")\r\n",
        "      return self.__search(nodo.right, value)                                                                                                    "
      ],
      "execution_count": 27,
      "outputs": []
    },
    {
      "cell_type": "code",
      "metadata": {
        "colab": {
          "base_uri": "https://localhost:8080/"
        },
        "id": "gptxt5-BdLLe",
        "outputId": "4a7db9fe-fb6b-4c25-ff8e-7c3bba542bda"
      },
      "source": [
        "abb = ArbolBinarioBusqueda()\r\n",
        "abb.insert(50)\r\n",
        "abb.insert(30)\r\n",
        "abb.insert(60)\r\n",
        "abb.insert(35)\r\n",
        "abb.insert(89)\r\n",
        "abb.insert(70)\r\n",
        "abb.insert(1)\r\n",
        "abb.transversal()\r\n",
        "abb.transversal(\"pre\")\r\n",
        "abb.transversal(\"pos\")\r\n",
        "res = abb.search(30)\r\n",
        "print(f\"El nodo es:{ res.data}, hijo izq {res.left.data}, hijo der { res.right.data}\")"
      ],
      "execution_count": 31,
      "outputs": [
        {
          "output_type": "stream",
          "text": [
            "\n",
            "Recorrido in orden\n",
            "1,30,35,50,60,70,89,\n",
            "Recorrido en pre orden\n",
            "50,30,1,35,60,89,70,\n",
            "Recorrido en pos orden\n",
            "1,35,30,70,89,60,50,Ir a la izq\n",
            "El nodo es:30, hijo izq 1, hijo der 35\n"
          ],
          "name": "stdout"
        }
      ]
    }
  ]
}