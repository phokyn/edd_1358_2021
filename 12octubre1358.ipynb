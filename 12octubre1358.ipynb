{
  "nbformat": 4,
  "nbformat_minor": 0,
  "metadata": {
    "colab": {
      "name": "12octubre1358.ipynb",
      "provenance": [],
      "authorship_tag": "ABX9TyP70H3PoTZ+ca2rmOwWljtp",
      "include_colab_link": true
    },
    "kernelspec": {
      "name": "python3",
      "display_name": "Python 3"
    }
  },
  "cells": [
    {
      "cell_type": "markdown",
      "metadata": {
        "id": "view-in-github",
        "colab_type": "text"
      },
      "source": [
        "<a href=\"https://colab.research.google.com/github/phokyn/edd_1358_2021/blob/master/12octubre1358.ipynb\" target=\"_parent\"><img src=\"https://colab.research.google.com/assets/colab-badge.svg\" alt=\"Open In Colab\"/></a>"
      ]
    },
    {
      "cell_type": "code",
      "metadata": {
        "id": "QsQwXhFz4CLE",
        "outputId": "4f045a11-009d-4dd5-a86e-3e109b18100c",
        "colab": {
          "base_uri": "https://localhost:8080/",
          "height": 326
        }
      },
      "source": [
        " # diccionarios (continuacion)\n",
        " cliente_banco = {\n",
        "     \"id\":1,\n",
        "     \"nombres\":[\"Juan\",\"Antonio\"],\n",
        "     \"paterno\":\"Garcia\",\n",
        "     \"materno\":\"Perez\",\n",
        "     \"telefonos\":{\n",
        "         \"casa\":5566778899,\n",
        "         \"celular\":5544332211,\n",
        "         \"trabajo\":5566223311\n",
        "     },\n",
        "     \"activo\":True,\n",
        "     \"balance\":234567.89,\n",
        "     \"tarjetas\":({\"tipo\":\"debito\",\"saldo\":12000},{\"tipo\":\"cedito\",\"saldo\":3500.0})\n",
        " }\n",
        "print(cliente_banco)\n",
        "#cliente_banco[\"balance\"] = cliente_banco[\"balance\"] - 1000.89\n",
        "cliente_banco[\"balance\"] -= 1000.89\n",
        "print(cliente_banco)\n",
        "cliente_banco[\"tarjetas\"] = ({\"tipo\":\"debito\",\"saldo\":12000},\n",
        "                             {\"tipo\":\"cedito\",\"saldo\":3500.0},\n",
        "                             {\"tipo\":\"credito\",\"nivel\":\"oro\",\"saldo\":50000})\n",
        "print(cliente_banco)\n",
        "cliente_banco[\"direccion\"]={\"calle\":\"rancho seco\",\"num\":23}\n",
        "print(cliente_banco)\n",
        "cliente_banco.pop(\"tarjetas\")\n",
        "print(cliente_banco)\n"
      ],
      "execution_count": 5,
      "outputs": [
        {
          "output_type": "stream",
          "text": [
            "{'id': 1, 'nombres': ['Juan', 'Antonio'], 'paterno': 'Garcia', 'materno': 'Perez', 'telefonos': {'casa': 5566778899, 'celular': 5544332211, 'trabajo': 5566223311}, 'activo': True, 'balance': 234567.89, 'tarjetas': ({'tipo': 'debito', 'saldo': 12000}, {'tipo': 'cedito', 'saldo': 3500.0})}\n",
            "{'id': 1, 'nombres': ['Juan', 'Antonio'], 'paterno': 'Garcia', 'materno': 'Perez', 'telefonos': {'casa': 5566778899, 'celular': 5544332211, 'trabajo': 5566223311}, 'activo': True, 'balance': 233567.0, 'tarjetas': ({'tipo': 'debito', 'saldo': 12000}, {'tipo': 'cedito', 'saldo': 3500.0})}\n",
            "{'id': 1, 'nombres': ['Juan', 'Antonio'], 'paterno': 'Garcia', 'materno': 'Perez', 'telefonos': {'casa': 5566778899, 'celular': 5544332211, 'trabajo': 5566223311}, 'activo': True, 'balance': 233567.0, 'tarjetas': ({'tipo': 'debito', 'saldo': 12000}, {'tipo': 'cedito', 'saldo': 3500.0}, {'tipo': 'credito', 'nivel': 'oro', 'saldo': 50000})}\n",
            "{'id': 1, 'nombres': ['Juan', 'Antonio'], 'paterno': 'Garcia', 'materno': 'Perez', 'telefonos': {'casa': 5566778899, 'celular': 5544332211, 'trabajo': 5566223311}, 'activo': True, 'balance': 233567.0, 'tarjetas': ({'tipo': 'debito', 'saldo': 12000}, {'tipo': 'cedito', 'saldo': 3500.0}, {'tipo': 'credito', 'nivel': 'oro', 'saldo': 50000}), 'direccion': {'calle': 'rancho seco', 'num': 23}}\n"
          ],
          "name": "stdout"
        },
        {
          "output_type": "execute_result",
          "data": {
            "text/plain": [
              "{'activo': True,\n",
              " 'balance': 233567.0,\n",
              " 'direccion': {'calle': 'rancho seco', 'num': 23},\n",
              " 'id': 1,\n",
              " 'materno': 'Perez',\n",
              " 'nombres': ['Juan', 'Antonio'],\n",
              " 'paterno': 'Garcia',\n",
              " 'tarjetas': ({'saldo': 12000, 'tipo': 'debito'},\n",
              "  {'saldo': 3500.0, 'tipo': 'cedito'},\n",
              "  {'nivel': 'oro', 'saldo': 50000, 'tipo': 'credito'}),\n",
              " 'telefonos': {'casa': 5566778899,\n",
              "  'celular': 5544332211,\n",
              "  'trabajo': 5566223311}}"
            ]
          },
          "metadata": {
            "tags": []
          },
          "execution_count": 5
        }
      ]
    },
    {
      "cell_type": "code",
      "metadata": {
        "id": "DuE6hLkDdo1l",
        "outputId": "2a5ede26-5671-4bcc-be17-0defc6c395ad",
        "colab": {
          "base_uri": "https://localhost:8080/",
          "height": 547
        }
      },
      "source": [
        "llaves = cliente_banco.keys()\n",
        "print(llaves)\n",
        "print(type(llaves))\n",
        "for x in llaves:\n",
        "  print(x)\n",
        "\n",
        "valores = cliente_banco.values()\n",
        "for v in valores:\n",
        "  print(v)\n",
        "\n",
        "pares = cliente_banco.items()\n",
        "print(pares)\n",
        "\n",
        "for elem in pares:\n",
        "  print(f\"{elem[0]} = {elem[1]}\")\n",
        "\n",
        "  "
      ],
      "execution_count": 11,
      "outputs": [
        {
          "output_type": "stream",
          "text": [
            "dict_keys(['id', 'nombres', 'paterno', 'materno', 'telefonos', 'activo', 'balance', 'tarjetas', 'direccion'])\n",
            "<class 'dict_keys'>\n",
            "id\n",
            "nombres\n",
            "paterno\n",
            "materno\n",
            "telefonos\n",
            "activo\n",
            "balance\n",
            "tarjetas\n",
            "direccion\n",
            "1\n",
            "['Juan', 'Antonio']\n",
            "Garcia\n",
            "Perez\n",
            "{'casa': 5566778899, 'celular': 5544332211, 'trabajo': 5566223311}\n",
            "True\n",
            "233567.0\n",
            "({'tipo': 'debito', 'saldo': 12000}, {'tipo': 'cedito', 'saldo': 3500.0}, {'tipo': 'credito', 'nivel': 'oro', 'saldo': 50000})\n",
            "{'calle': 'rancho seco', 'num': 23}\n",
            "dict_items([('id', 1), ('nombres', ['Juan', 'Antonio']), ('paterno', 'Garcia'), ('materno', 'Perez'), ('telefonos', {'casa': 5566778899, 'celular': 5544332211, 'trabajo': 5566223311}), ('activo', True), ('balance', 233567.0), ('tarjetas', ({'tipo': 'debito', 'saldo': 12000}, {'tipo': 'cedito', 'saldo': 3500.0}, {'tipo': 'credito', 'nivel': 'oro', 'saldo': 50000})), ('direccion', {'calle': 'rancho seco', 'num': 23})])\n",
            "id = 1\n",
            "nombres = ['Juan', 'Antonio']\n",
            "paterno = Garcia\n",
            "materno = Perez\n",
            "telefonos = {'casa': 5566778899, 'celular': 5544332211, 'trabajo': 5566223311}\n",
            "activo = True\n",
            "balance = 233567.0\n",
            "tarjetas = ({'tipo': 'debito', 'saldo': 12000}, {'tipo': 'cedito', 'saldo': 3500.0}, {'tipo': 'credito', 'nivel': 'oro', 'saldo': 50000})\n",
            "direccion = {'calle': 'rancho seco', 'num': 23}\n"
          ],
          "name": "stdout"
        }
      ]
    },
    {
      "cell_type": "code",
      "metadata": {
        "id": "8uxptnuyg_A7",
        "outputId": "6d23968c-d53f-4e49-8409-910c74e85754",
        "colab": {
          "base_uri": "https://localhost:8080/",
          "height": 34
        }
      },
      "source": [
        "fruta = {\"nombre\":\"manzana\",\"color\":\"rojo\",\"estado\":\"chihuahua\"}\n",
        "otras_caracteristicas = {\"vitamina\":\"D\"}\n",
        "fruta.update(otras_caracteristicas)\n",
        "print(fruta)\n"
      ],
      "execution_count": 12,
      "outputs": [
        {
          "output_type": "stream",
          "text": [
            "{'nombre': 'manzana', 'color': 'rojo', 'estado': 'chihuahua', 'vitamina': 'D'}\n"
          ],
          "name": "stdout"
        }
      ]
    },
    {
      "cell_type": "markdown",
      "metadata": {
        "id": "ST6QhcC6iUE_"
      },
      "source": [
        "# Funciones\n",
        "- recibe de 0 a n argumentos de entrada \n",
        "- regresa solo un valor, aunque ese valor sea nulo(NONE)\n",
        "-tiene un nombre unico en el contexto\n",
        "- se pueden hacer solo dos cosas:\n",
        "            -definirla\n",
        "            llamarla"
      ]
    },
    {
      "cell_type": "code",
      "metadata": {
        "id": "TiuuRPk-jGG-",
        "outputId": "11f4dae1-795f-404d-a8da-c8683f51d7ac",
        "colab": {
          "base_uri": "https://localhost:8080/",
          "height": 51
        }
      },
      "source": [
        "def suma(a,b):\n",
        "  return a+b\n",
        "\n",
        "def saludar():\n",
        "  print(\"Hola, ¿Como estas?\")\n",
        "  return None\n",
        "\n",
        "x = 10 \n",
        "y = 20\n",
        "c = suma(x,y)\n",
        "\n",
        "print(c)\n",
        "saludar()\n"
      ],
      "execution_count": 14,
      "outputs": [
        {
          "output_type": "stream",
          "text": [
            "30\n",
            "Hola, ¿Como estas?\n"
          ],
          "name": "stdout"
        }
      ]
    },
    {
      "cell_type": "markdown",
      "metadata": {
        "id": "DvejT8s-kwJH"
      },
      "source": [
        "#None y las funciones \n",
        "Aprovechar el uso de None en paso de parametros "
      ]
    },
    {
      "cell_type": "code",
      "metadata": {
        "id": "n1xGoF3Ek-AY",
        "outputId": "7f984d19-38d3-423e-f870-f6b5ff2e251a",
        "colab": {
          "base_uri": "https://localhost:8080/",
          "height": 34
        }
      },
      "source": [
        "def calcular(base,veces):\n",
        "  if base != None:\n",
        "    resultado = base * veces\n",
        "  else:\n",
        "    resultado = \"desconocido\"\n",
        "  return resultado\n",
        "\n",
        "print(calcular(4,3))\n",
        "print(calcular(None,3))"
      ],
      "execution_count": 16,
      "outputs": [
        {
          "output_type": "stream",
          "text": [
            "12\n"
          ],
          "name": "stdout"
        }
      ]
    }
  ]
}