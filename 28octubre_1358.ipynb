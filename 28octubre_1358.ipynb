{
  "nbformat": 4,
  "nbformat_minor": 0,
  "metadata": {
    "colab": {
      "name": "28octubre_1358.ipynb",
      "provenance": [],
      "authorship_tag": "ABX9TyMeu9ewLFL4kvxK7Ued1fIE",
      "include_colab_link": true
    },
    "kernelspec": {
      "name": "python3",
      "display_name": "Python 3"
    }
  },
  "cells": [
    {
      "cell_type": "markdown",
      "metadata": {
        "id": "view-in-github",
        "colab_type": "text"
      },
      "source": [
        "<a href=\"https://colab.research.google.com/github/phokyn/edd_1358_2021/blob/master/28octubre_1358.ipynb\" target=\"_parent\"><img src=\"https://colab.research.google.com/assets/colab-badge.svg\" alt=\"Open In Colab\"/></a>"
      ]
    },
    {
      "cell_type": "code",
      "metadata": {
        "id": "b-98MJLqoFbn",
        "outputId": "29603cbd-a941-41d9-d8f1-a1102d39bf56",
        "colab": {
          "base_uri": "https://localhost:8080/"
        }
      },
      "source": [
        "\"\"\"\n",
        "Array\n",
        "\"\"\"\n",
        "class Array:\n",
        "  def __init__( self, tam ):\n",
        "    self.__datos = [ 0 for x in range(tam) ]\n",
        "\n",
        "  def get_item( self, index ):\n",
        "    dato = 0\n",
        "\n",
        "    if index >=0 and index < len(self.__datos):\n",
        "      dato = self.__datos[ index ]\n",
        "    else:\n",
        "      print(\"Error en el indice\")\n",
        "\n",
        "    return dato\n",
        "\n",
        "  def set_item( self, dato, index ):\n",
        "\n",
        "    if index >=0 and index < len(self.__datos):\n",
        "      self.__datos[ index ] = dato\n",
        "    else:\n",
        "      print(\"Error en el indice\")\n",
        "\n",
        "  def get_lenght( self ):\n",
        "    '''Obtener el tamaño del arreglo'''\n",
        "    return len( self.__datos )\n",
        "\n",
        "  def clear( self, dato ):\n",
        "    self.__datos = [dato for x in range(self.tam)]\n",
        "\n",
        "  def _getIterator( self ):\n",
        "    return _getIterator( self.__datos )\n",
        "\n",
        "class _getIterator:\n",
        "  def __init__( self, arreglo ):\n",
        "    self.__arreglo = arreglo\n",
        "    self.__indice_actual = 0\n",
        "\n",
        "  def __iter__( self ):\n",
        "    return self\n",
        "\n",
        "  def __next__( self ):\n",
        "    if self.__indice_actual < len(self.__arreglo):\n",
        "      dato = self.__arreglo[ self.__indice_actual ]\n",
        "      self.__indice_actual +=1\n",
        "      return dato \n",
        "    else:\n",
        "      raise StopIteration\n",
        "\n",
        "mi_arreglo = Array(10)\n",
        "print(mi_arreglo.get_item( 2 ))\n",
        "mi_arreglo.set_item( 2345, 3 )\n",
        "print(mi_arreglo.get_item( 3 ))\n",
        "\n",
        "for x in mi_arreglo._getIterator():\n",
        "  print(x)"
      ],
      "execution_count": 17,
      "outputs": [
        {
          "output_type": "stream",
          "text": [
            "0\n",
            "2345\n",
            "0\n",
            "0\n",
            "0\n",
            "2345\n",
            "0\n",
            "0\n",
            "0\n",
            "0\n",
            "0\n",
            "0\n"
          ],
          "name": "stdout"
        }
      ]
    },
    {
      "cell_type": "markdown",
      "metadata": {
        "id": "ltWXYr4HJlIl"
      },
      "source": [
        "#generadores "
      ]
    },
    {
      "cell_type": "code",
      "metadata": {
        "id": "pMjz0k_yGnkF",
        "outputId": "63bea37f-4a62-49ea-c78c-ecdb0b847646",
        "colab": {
          "base_uri": "https://localhost:8080/"
        }
      },
      "source": [
        "basura = [\"Manzana\",\"Pera\"]\n",
        "datos = [ x.upper() for x in basura ]\n",
        "print(datos)"
      ],
      "execution_count": 11,
      "outputs": [
        {
          "output_type": "stream",
          "text": [
            "['MANZANA', 'PERA']\n"
          ],
          "name": "stdout"
        }
      ]
    },
    {
      "cell_type": "code",
      "metadata": {
        "id": "N7uLzr9qIV2-",
        "outputId": "374408d7-1ca1-49b6-a4e8-507256097a0e",
        "colab": {
          "base_uri": "https://localhost:8080/"
        }
      },
      "source": [
        "# lista 2 D\n",
        "\n",
        "ren = 4\n",
        "col = 6\n",
        "dos_d = [ [ 0 for x in range (col) ] for x in range(ren) ]\n",
        "print(dos_d)"
      ],
      "execution_count": 14,
      "outputs": [
        {
          "output_type": "stream",
          "text": [
            "[[0, 0, 0, 0, 0, 0], [0, 0, 0, 0, 0, 0], [0, 0, 0, 0, 0, 0], [0, 0, 0, 0, 0, 0]]\n"
          ],
          "name": "stdout"
        }
      ]
    }
  ]
}