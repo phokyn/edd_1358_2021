{
  "nbformat": 4,
  "nbformat_minor": 0,
  "metadata": {
    "colab": {
      "name": "7octubre_1358.ipynb",
      "provenance": [],
      "collapsed_sections": [],
      "include_colab_link": true
    },
    "kernelspec": {
      "display_name": "Python 3",
      "name": "python3"
    }
  },
  "cells": [
    {
      "cell_type": "markdown",
      "metadata": {
        "id": "view-in-github",
        "colab_type": "text"
      },
      "source": [
        "<a href=\"https://colab.research.google.com/github/phokyn/edd_1358_2021/blob/master/7octubre_1358.ipynb\" target=\"_parent\"><img src=\"https://colab.research.google.com/assets/colab-badge.svg\" alt=\"Open In Colab\"/></a>"
      ]
    },
    {
      "cell_type": "code",
      "metadata": {
        "id": "0hJSobADmFTF",
        "outputId": "f595a8d5-17d9-4f13-bab7-d4add0b9ae5d",
        "colab": {
          "base_uri": "https://localhost:8080/"
        }
      },
      "source": [
        "autos = [\"Mazda\",\"Honda\",\"Akura\",\"Ford\",\"Vw\"]\n",
        "telefonos = [\"iphone\",\"Huawei Mate 30\",\"Xiaomi S10\",\"Alcatel t1000\"]\n",
        "sistemas_operativos = [\"Windows\",\"Linux\",\"Android\",\"IOS\",\"MacOs\"]\n",
        "procesadores = [[\"Intel\",3.1,True],[\"AMD\",2.7,False],[\"Motorola\",1.1,False]]\n",
        "\n",
        "lista_nd = [autos,telefonos,sistemas_operativos,procesadores]\n",
        "print(lista_nd)\n",
        "print(lista_nd[2][3])\n",
        "print(lista_nd[1][1][3:6])\n",
        "print(lista_nd[3][1][1])\n",
        "print(lista_nd[3][2][0][2:6])\n",
        "print(lista_nd[3][0][0][-2:-5:-1])\n",
        "\n",
        "#concatenar listas\n",
        "colores = [\"Rojo\",\"Verde\",\"Azul\",\"Negro\"]\n",
        "flores = [\"Margarita\",\"Rosa\"]\n",
        "\n",
        "nueva = colores + flores \n",
        "#no modifica las listas\n",
        "print(nueva)\n",
        "print(colores)\n",
        "print(flores)\n",
        "# con extends \n",
        "#agrega una lista a la otra  \n",
        "colores.extend(flores)\n",
        "print(colores)\n",
        "\n",
        "#unpacking de listas \n",
        "print(\"unpacking\")\n",
        "datos_personales= [\"Jose\",\"Perez\",\"Juarez\",22,1.67,True]\n",
        "nombre,paterno,materno,edad,estatura,fuma = datos_personales\n",
        "print(f\"Nombre:{nombre}\\n Edad:{edad}\")\n",
        "\n"
      ],
      "execution_count": 3,
      "outputs": [
        {
          "output_type": "stream",
          "text": [
            "[['Mazda', 'Honda', 'Akura', 'Ford', 'Vw'], ['iphone', 'Huawei Mate 30', 'Xiaomi S10', 'Alcatel t1000'], ['Windows', 'Linux', 'Android', 'IOS', 'MacOs'], [['Intel', 3.1, True], ['AMD', 2.7, False], ['Motorola', 1.1, False]]]\n",
            "IOS\n",
            "wei\n",
            "2.7\n",
            "toro\n",
            "etn\n",
            "['Rojo', 'Verde', 'Azul', 'Negro', 'Margarita', 'Rosa']\n",
            "['Rojo', 'Verde', 'Azul', 'Negro']\n",
            "['Margarita', 'Rosa']\n",
            "['Rojo', 'Verde', 'Azul', 'Negro', 'Margarita', 'Rosa']\n",
            "unpacking\n",
            "Nombre:Jose\n",
            " Edad:22\n"
          ],
          "name": "stdout"
        }
      ]
    },
    {
      "cell_type": "code",
      "metadata": {
        "id": "09vgoRzpuNvZ",
        "outputId": "eaa60aa8-7254-4386-88e9-e35219a7bb91",
        "colab": {
          "base_uri": "https://localhost:8080/"
        }
      },
      "source": [
        "# tuplas \n",
        "bd = (\"127.0.0.1\",\"roo\",\"toor\",\"1345\")\n",
        "print(f\"usuario de la bd es { bd[1]} \")\n",
        "#bd[1] = \"user1\" no se puede modificar una tupla \n",
        "print(bd[1:3])\n"
      ],
      "execution_count": 5,
      "outputs": [
        {
          "output_type": "stream",
          "text": [
            "usuario de la bd es roo \n",
            "('roo', 'toor')\n"
          ],
          "name": "stdout"
        }
      ]
    },
    {
      "cell_type": "code",
      "metadata": {
        "id": "G4jZBw5owWs0",
        "outputId": "a898a4bf-806e-4d3a-a204-2886ea914075",
        "colab": {
          "base_uri": "https://localhost:8080/"
        }
      },
      "source": [
        "#diccionarios\n",
        "alumno = {\"nombre\":\"Juan\",\"edad\":22,\"carrera\":\"ICO\"}\n",
        "print(alumno)\n",
        "print(alumno[\"edad\"])\n",
        "alumno = {\n",
        "    \"nombre\":\"Juan\",\n",
        "    \"edad\":22,\n",
        "    \"carrera\":\"ICO\",\n",
        "    \"direccion\":{\"calle\":\"Bosques de Africa\",\n",
        "                 \"numero\":33,\n",
        "                 \"delegacion\":\"Nezahualcoyotl\",\n",
        "                 \"estado\":15,\n",
        "                 \"nombre_estado\":\"Estado de Mexico\"\n",
        "                 }\n",
        "    }\n",
        "  \n",
        "print(alumno[\"direccion\"])\n",
        "print(alumno[\"direccion\"][\"delegacion\"])\n",
        "print(alumno[\"direccion\"][\"delegacion\"][3:7])\n",
        "print(alumno[\"direccion\"][\"delegacion\"][3:7].upper())\n",
        "alumno[\"edad\"] = 35\n",
        "print(alumno)\n",
        "alumno[\"promedio\"] = 9.9\n",
        "print(alumno)\n",
        "alumno[\"direccion\"][\"cp\"] = 17170\n",
        "print(alumno)\n",
        "alumno[\"materia\"]= {\"nombre\":\"CyP\",\"calificacion\":10}\n",
        "print(alumno)\n",
        "\n",
        "cliente = { \"id\" : 1 , \"nombre\" : \"Carlos Slim\" }\n",
        "print(cliente)\n"
      ],
      "execution_count": 14,
      "outputs": [
        {
          "output_type": "stream",
          "text": [
            "{'nombre': 'Juan', 'edad': 22, 'carrera': 'ICO'}\n",
            "22\n",
            "{'calle': 'Bosques de Africa', 'numero': 33, 'delegacion': 'Nezahualcoyotl', 'estado': 15, 'nombre_estado': 'Estado de Mexico'}\n",
            "Nezahualcoyotl\n",
            "ahua\n",
            "AHUA\n",
            "{'nombre': 'Juan', 'edad': 35, 'carrera': 'ICO', 'direccion': {'calle': 'Bosques de Africa', 'numero': 33, 'delegacion': 'Nezahualcoyotl', 'estado': 15, 'nombre_estado': 'Estado de Mexico'}}\n",
            "{'nombre': 'Juan', 'edad': 35, 'carrera': 'ICO', 'direccion': {'calle': 'Bosques de Africa', 'numero': 33, 'delegacion': 'Nezahualcoyotl', 'estado': 15, 'nombre_estado': 'Estado de Mexico'}, 'promedio': 9.9}\n",
            "{'nombre': 'Juan', 'edad': 35, 'carrera': 'ICO', 'direccion': {'calle': 'Bosques de Africa', 'numero': 33, 'delegacion': 'Nezahualcoyotl', 'estado': 15, 'nombre_estado': 'Estado de Mexico', 'cp': 17170}, 'promedio': 9.9}\n",
            "{'nombre': 'Juan', 'edad': 35, 'carrera': 'ICO', 'direccion': {'calle': 'Bosques de Africa', 'numero': 33, 'delegacion': 'Nezahualcoyotl', 'estado': 15, 'nombre_estado': 'Estado de Mexico', 'cp': 17170}, 'promedio': 9.9, 'materia': {'nombre': 'CyP', 'calificacion': 10}}\n"
          ],
          "name": "stdout"
        }
      ]
    }
  ]
}