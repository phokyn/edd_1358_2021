{
  "nbformat": 4,
  "nbformat_minor": 0,
  "metadata": {
    "colab": {
      "name": "Tarea_ldl.ipynb",
      "provenance": [],
      "authorship_tag": "ABX9TyPcae4kMEDwDoRsHwx/ofj4",
      "include_colab_link": true
    },
    "kernelspec": {
      "name": "python3",
      "display_name": "Python 3"
    }
  },
  "cells": [
    {
      "cell_type": "markdown",
      "metadata": {
        "id": "view-in-github",
        "colab_type": "text"
      },
      "source": [
        "<a href=\"https://colab.research.google.com/github/phokyn/edd_1358_2021/blob/master/Tarea_ldl.ipynb\" target=\"_parent\"><img src=\"https://colab.research.google.com/assets/colab-badge.svg\" alt=\"Open In Colab\"/></a>"
      ]
    },
    {
      "cell_type": "code",
      "metadata": {
        "id": "-uJRSLj2K3g6"
      },
      "source": [
        "class NodoDoble:\n",
        "  def __init__(self, value, previo=None, siguiente=None):\n",
        "    self.data = value\n",
        "    self.prev = previo \n",
        "    self.next = siguiente\n",
        "\n",
        "class DoubleLinkedList:\n",
        "  def __init__(self):\n",
        "    self.__head = None\n",
        "    self.__tail = None\n",
        "    self.__size = 0 \n",
        "\n",
        "  def get_size(self):\n",
        "    return self.__size\n",
        "  \n",
        "  def is_empty(self):\n",
        "    return self.__size == 0\n",
        "\n",
        "  def append(self, value):\n",
        "    if self.is_empty():\n",
        "      nuevo = NodoDoble(value)\n",
        "      self.__head = nuevo\n",
        "      self.__tail = nuevo\n",
        "    else:\n",
        "      nuevo = NodoDoble(value, self.__tail, None)\n",
        "      self.__tail.next = nuevo\n",
        "      self.__tail = nuevo\n",
        "\n",
        "    self.__size += 1\n",
        "\n",
        "  def transversal(self):\n",
        "    curr_node = self.__head\n",
        "    while curr_node != None:\n",
        "      print(\"<--\", curr_node.data, \"-->\", end=\"\")\n",
        "      curr_node = curr_node.next\n",
        "    print(\"\")\n",
        "\n",
        "  def remove_from_head(self, value):\n",
        "    if self.is_empty():\n",
        "      pass\n",
        "    else:\n",
        "      curr_node = self.__head  \n",
        "      if curr_node.data == value:\n",
        "        self.__head = curr_node.next\n",
        "        curr_node.prev = None \n",
        "        return \n",
        "      else:    \n",
        "        while curr_node.data != value and curr_node != None:\n",
        "          curr_node = curr_node.next\n",
        "        if curr_node.data == value:\n",
        "          if curr_node.next == None:\n",
        "            self.__tail = curr_node.prev\n",
        "            curr_node.prev.next = None\n",
        "          else:\n",
        "            curr_node.prev.next = curr_node.next\n",
        "            curr_node.next.prev = curr_node.prev \n",
        "        self.__size -= 1\n",
        "  def find_from_head(self, value):\n",
        "    curr_node = self.__head\n",
        "    while curr_node.data != value and curr_node != None:\n",
        "          curr_node = curr_node.next\n",
        "    if curr_node.data == value:\n",
        "      print(curr_node.data)\n",
        "  \n",
        "  def find_from_tail(self, value):\n",
        "    curr_node = self.__tail\n",
        "    while curr_node.data != value and curr_node != None:\n",
        "          curr_node = curr_node.prev\n",
        "    if curr_node.data == value:\n",
        "      print(curr_node.data)\n",
        "\n",
        "  def reverse_transversal(self):\n",
        "    curr_node = self.__tail\n",
        "    while curr_node != None:\n",
        "      print(\"<--\", curr_node.data, \"-->\", end=\"\")\n",
        "      curr_node = curr_node.prev\n",
        "    print(\"\")\n",
        "\n",
        "  def remove_from_tail(self, value):\n",
        "    if self.is_empty():\n",
        "      pass\n",
        "    else:\n",
        "      curr_node = self.__tail  \n",
        "      if curr_node.data == value:\n",
        "        self.__tail = curr_node.prev\n",
        "        curr_node.next = None \n",
        "        return \n",
        "      else:    \n",
        "        while curr_node.data != value and curr_node != None:\n",
        "          curr_node = curr_node.prev\n",
        "        if curr_node.data == value:\n",
        "          if curr_node.prev == None:\n",
        "            self.__head = curr_node.next\n",
        "            curr_node.next.prev = None\n",
        "          else:\n",
        "            curr_node.prev.next = curr_node.next\n",
        "            curr_node.next.prev = curr_node.prev \n",
        "        self.__size -= 1"
      ],
      "execution_count": 10,
      "outputs": []
    },
    {
      "cell_type": "code",
      "metadata": {
        "colab": {
          "base_uri": "https://localhost:8080/"
        },
        "id": "rzTe3IPdQYtm",
        "outputId": "d8c4b092-77fb-4f5c-8b68-9e2671a133ba"
      },
      "source": [
        "ldl = DoubleLinkedList()\n",
        "print(ldl.get_size())\n",
        "ldl.append(10)\n",
        "print(ldl.get_size())\n",
        "ldl.transversal()\n",
        "ldl.append(20)\n",
        "ldl.append(30)\n",
        "ldl.transversal()\n",
        "ldl.remove_from_head(20)\n",
        "ldl.transversal()\n",
        "ldl.reverse_transversal()\n",
        "ldl.append(40)\n",
        "ldl.transversal()\n",
        "ldl.reverse_transversal()\n",
        "ldl.append(20)\n",
        "ldl.transversal()\n",
        "ldl.remove_from_head(10)\n",
        "ldl.transversal()\n",
        "ldl.remove_from_head(20)\n",
        "ldl.transversal()"
      ],
      "execution_count": 13,
      "outputs": [
        {
          "output_type": "stream",
          "text": [
            "0\n",
            "1\n",
            "<-- 10 -->\n",
            "<-- 10 --><-- 20 --><-- 30 -->\n",
            "<-- 10 --><-- 30 -->\n",
            "<-- 30 --><-- 10 -->\n",
            "<-- 10 --><-- 30 --><-- 40 -->\n",
            "<-- 40 --><-- 30 --><-- 10 -->\n",
            "<-- 10 --><-- 30 --><-- 40 --><-- 20 -->\n",
            "<-- 30 --><-- 40 --><-- 20 -->\n",
            "<-- 30 --><-- 40 -->\n"
          ],
          "name": "stdout"
        }
      ]
    }
  ]
}