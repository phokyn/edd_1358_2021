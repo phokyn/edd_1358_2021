{
  "nbformat": 4,
  "nbformat_minor": 0,
  "metadata": {
    "colab": {
      "name": "9noviembre_1358.ipynb",
      "provenance": [],
      "authorship_tag": "ABX9TyP4Dc5dkLolCwhFetMIZ2XE",
      "include_colab_link": true
    },
    "kernelspec": {
      "name": "python3",
      "display_name": "Python 3"
    }
  },
  "cells": [
    {
      "cell_type": "markdown",
      "metadata": {
        "id": "view-in-github",
        "colab_type": "text"
      },
      "source": [
        "<a href=\"https://colab.research.google.com/github/phokyn/edd_1358_2021/blob/master/9noviembre_1358.ipynb\" target=\"_parent\"><img src=\"https://colab.research.google.com/assets/colab-badge.svg\" alt=\"Open In Colab\"/></a>"
      ]
    },
    {
      "cell_type": "code",
      "metadata": {
        "id": "JowfQKt21Erx"
      },
      "source": [
        "class Nodo:\n",
        "  def _init_(self, dato):\n",
        "    self.__dato = dato\n",
        "    self.__siguiente = None\n",
        "  \n",
        "  def get_dato(self):\n",
        "    return self.__dato\n",
        "  \n",
        "  def set_dato(self, d):\n",
        "    self.__dato = d\n",
        "\n",
        "  def get_siguiente(self):\n",
        "    return self.__siguiente\n",
        "\n",
        "  def set_siguiente(self, d ):\n",
        "    self.__siguiente = d\n",
        "\n",
        "  def show(self):\n",
        "    curr_node= self\n",
        "    print(\"Inicio de la estructura ligada:\")\n",
        "    print(\"|\" + str(curr_node.get_dato()) + \"| -->\", end,\"\")\n",
        "    while( curr_node.get_siguiente()!=None):\n",
        "      curr_node = curr_node.get_siguiente()\n",
        "      print(\"|\"+str(curr_node.get_dato())+\"| -->\",end=\"\")\n",
        "      print(\"\\nFin\")\n",
        "\n",
        "a= Nodo(10)\n",
        "a.show()\n",
        "\n",
        "a.set_siguiente(Nodo(20))\n",
        "a.show()"
      ],
      "execution_count": null,
      "outputs": []
    }
  ]
}